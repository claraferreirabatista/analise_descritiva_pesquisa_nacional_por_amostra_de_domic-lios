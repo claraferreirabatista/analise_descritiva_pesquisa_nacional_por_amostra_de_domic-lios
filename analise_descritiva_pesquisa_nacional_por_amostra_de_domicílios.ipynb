{
 "cells": [
  {
   "cell_type": "markdown",
   "metadata": {
    "colab_type": "text",
    "id": "WvMflodMjQKe"
   },
   "source": [
    "\n",
    "## Análise Descritiva de um Conjunto de Dados\n",
    "\n",
    "Utilizando os conhecimentos adquiridos em nosso treinamento realize uma análise descritiva básica de um conjunto de dados retirados da **Pesquisa Nacional por Amostra de Domicílios - 2015 do IBGE**. \n",
    "\n"
   ]
  },
  {
   "cell_type": "markdown",
   "metadata": {
    "colab_type": "text",
    "id": "iN1gIbaKjQKh"
   },
   "source": [
    "### Pesquisa Nacional por Amostra de Domicílios - 2015\n",
    "\n",
    "A <b>Pesquisa Nacional por Amostra de Domicílios - PNAD</b> investiga anualmente, de forma permanente, características gerais da população, de educação, trabalho, rendimento e habitação e outras, com periodicidade variável, de acordo com as necessidades de informação para o país, como as características sobre migração, fecundidade, nupcialidade, saúde, segurança alimentar, entre outros temas. O levantamento dessas estatísticas constitui, ao longo dos 49 anos de realização da pesquisa, um importante instrumento para formulação, validação e avaliação de políticas orientadas para o desenvolvimento socioeconômico e a melhoria das condições de vida no Brasil."
   ]
  },
  {
   "cell_type": "markdown",
   "metadata": {
    "colab_type": "text",
    "id": "U6V7br1RjQKi"
   },
   "source": [
    "### Fonte dos Dados\n",
    "\n",
    "https://ww2.ibge.gov.br/home/estatistica/populacao/trabalhoerendimento/pnad2015/microdados.shtm"
   ]
  },
  {
   "cell_type": "markdown",
   "metadata": {},
   "source": [
    "#### Bibliotecas usadas\n"
   ]
  },
  {
   "cell_type": "code",
   "execution_count": 25,
   "metadata": {},
   "outputs": [],
   "source": [
    "import warnings\n",
    "\n",
    "# Ignorar todos os avisos\n",
    "warnings.filterwarnings(\"ignore\")\n"
   ]
  },
  {
   "cell_type": "code",
   "execution_count": 26,
   "metadata": {
    "colab": {},
    "colab_type": "code",
    "id": "fcTgimHBybMz"
   },
   "outputs": [],
   "source": [
    "import pandas as pd\n",
    "import numpy as np\n",
    "import seaborn as sns\n",
    "import matplotlib.pyplot as plt"
   ]
  },
  {
   "cell_type": "code",
   "execution_count": 27,
   "metadata": {
    "colab": {},
    "colab_type": "code",
    "id": "ufRZ7TLwjQKo"
   },
   "outputs": [],
   "source": [
    "df = pd.read_csv(\"dados.csv\")"
   ]
  },
  {
   "cell_type": "markdown",
   "metadata": {},
   "source": [
    "Em vários momentos são calculados a frequencia e percentual, com isso optei em criar em função reutilazável:\n",
    "\n",
    "\n",
    "    Calcula a frequência e o percentual dos dados em relação ao total.\n",
    "\n",
    "    Args:\n",
    "        dados (Series): Os dados a serem analisados.\n",
    "        total (int): O total de observações.\n",
    "        casas_decimais (int, optional): O número de casas decimais para arredondamento. Padrão é 2.\n",
    "\n",
    "    Returns:\n",
    "        DataFrame: Um DataFrame contendo a frequência e o percentual dos dados.\n",
    "\n"
   ]
  },
  {
   "cell_type": "code",
   "execution_count": 28,
   "metadata": {},
   "outputs": [],
   "source": [
    "def calcular_frequencia_e_percentual(dados, total, casas_decimais=2):\n",
    "\n",
    "    # Calcula a frequência dos dados e ordena as classes\n",
    "    frequencia = dados.value_counts().sort_index()\n",
    "\n",
    "    # Calcula o percentual dos dados em relação ao total\n",
    "    percentual = (frequencia / total) * 100\n",
    "\n",
    "    # Arredonda o percentual\n",
    "    percentual = percentual.round(casas_decimais)\n",
    "\n",
    "    # Cria um DataFrame com os resultados\n",
    "    resultado = pd.DataFrame({\"Frequência\": frequencia, \"Porcentagem (%)\": percentual})\n",
    "\n",
    "    return resultado"
   ]
  },
  {
   "cell_type": "markdown",
   "metadata": {},
   "source": [
    "Criação de classes que simbolizam classe sociais. "
   ]
  },
  {
   "cell_type": "code",
   "execution_count": 29,
   "metadata": {},
   "outputs": [],
   "source": [
    "salario_minimo = 788.00\n",
    "\n",
    "# Definindo os intervalos e rótulos para as classes de renda\n",
    "intervalos = [\n",
    "    -float(\"inf\"),\n",
    "    salario_minimo,\n",
    "    2 * salario_minimo,\n",
    "    5 * salario_minimo,\n",
    "    10 * salario_minimo,\n",
    "    15 * salario_minimo,\n",
    "    25 * salario_minimo,\n",
    "    float(\"inf\"),\n",
    "]\n",
    "rotulos = [\"G\", \"F\", \"E\", \"D\", \"C\", \"B\", \"A\"]\n",
    "\n",
    "# Criando a coluna \"Classe\" no DataFrame\n",
    "df[\"Classe\"] = pd.cut(df[\"Renda\"], bins=intervalos, labels=rotulos, right=False)"
   ]
  },
  {
   "cell_type": "code",
   "execution_count": 30,
   "metadata": {},
   "outputs": [
    {
     "name": "stdout",
     "output_type": "stream",
     "text": [
      "        Frequência  Porcentagem (%)\n",
      "Classe                             \n",
      "G            15301            19.91\n",
      "F            34056            44.32\n",
      "E            18972            24.69\n",
      "D             5700             7.42\n",
      "C             1568             2.04\n",
      "B              823             1.07\n",
      "A              420             0.55\n"
     ]
    }
   ],
   "source": [
    "# guardando o calculo das frenquencia e percentuais em uma variavel\n",
    "resultado = calcular_frequencia_e_percentual(\n",
    "    df[\"Classe\"], df.shape[0], casas_decimais=2\n",
    ")\n",
    "\n",
    "# Imprimindo o resultado\n",
    "print(resultado)"
   ]
  },
  {
   "cell_type": "markdown",
   "metadata": {},
   "source": [
    "Estudo gráfico:\n",
    "\n",
    "\n",
    "    Plota um histograma com cores específicas para cada classe.\n",
    "\n",
    "    Parâmetros:\n",
    "        resultado (pandas.DataFrame): DataFrame contendo os resultados do cálculo da frequência e do percentual.\n",
    "        coluna (str): Nome da coluna que está sendo estudada (também usado para rótulo e título).\n",
    "        cores (dict): Um dicionário onde as chaves são os rótulos das classes e os valores são as cores correspondentes.\n",
    "\n",
    "    Retorna:\n",
    "        None\n",
    "\n"
   ]
  },
  {
   "cell_type": "code",
   "execution_count": 31,
   "metadata": {},
   "outputs": [],
   "source": [
    "def plotar_histograma_com_cores(resultado, coluna, cores):\n",
    "\n",
    "    # Ordena o DataFrame pelo percentual de frequência (do maior para o menor)\n",
    "    resultado = resultado.sort_values(by=\"Porcentagem (%)\", ascending=False)\n",
    "\n",
    "    # Define a ordem das classes e as cores correspondentes\n",
    "    ordem_classes = resultado.index\n",
    "    cores_classes = [cores[c] for c in ordem_classes]\n",
    "\n",
    "    # Plota o histograma usando Seaborn\n",
    "    plt.figure(figsize=(10, 6))\n",
    "    sns.barplot(\n",
    "        x=\"Porcentagem (%)\", y=ordem_classes, data=resultado, palette=cores_classes\n",
    "    )\n",
    "    plt.xlabel(\"Porcentagem (%)\")\n",
    "    plt.ylabel(coluna)\n",
    "    plt.title(f\"Histograma de Frequência por {coluna}\")\n",
    "    plt.show()"
   ]
  },
  {
   "cell_type": "code",
   "execution_count": 32,
   "metadata": {},
   "outputs": [
    {
     "data": {
      "image/png": "[encoded data removed]",
      "text/plain": [
       "<Figure size 1000x600 with 1 Axes>"
      ]
     },
     "metadata": {},
     "output_type": "display_data"
    }
   ],
   "source": [
    "# Valores de frequência e percentual já calculados\n",
    "resultado = calcular_frequencia_e_percentual(\n",
    "    df[\"Classe\"], df.shape[0], casas_decimais=2\n",
    ")\n",
    "\n",
    "# Dicionário de cores para cada classe\n",
    "cores = {\n",
    "    \"A\": \"blue\",\n",
    "    \"B\": \"green\",\n",
    "    \"C\": \"red\",\n",
    "    \"D\": \"orange\",\n",
    "    \"E\": \"purple\",\n",
    "    \"F\": \"yellow\",\n",
    "    \"G\": \"cyan\",\n",
    "}\n",
    "\n",
    "# Plotar o histograma com as cores especificadas e o nome da coluna\n",
    "plotar_histograma_com_cores(resultado, \"Classe\", cores)"
   ]
  },
  {
   "cell_type": "code",
   "execution_count": 33,
   "metadata": {},
   "outputs": [
    {
     "ename": "NameError",
     "evalue": "name 'distribuicao_de_frequencia_renda' is not defined",
     "output_type": "error",
     "traceback": [
      "\u001b[0;31m---------------------------------------------------------------------------\u001b[0m",
      "\u001b[0;31mNameError\u001b[0m                                 Traceback (most recent call last)",
      "Cell \u001b[0;32mIn[33], line 10\u001b[0m\n\u001b[1;32m      5\u001b[0m \u001b[38;5;66;03m# Criando o gráfico de barras\u001b[39;00m\n\u001b[1;32m      6\u001b[0m \u001b[38;5;66;03m# Utilizando a função plt.figure() para criar uma figura com o tamanho especificado (10 polegadas de largura por 6 polegadas de altura)\u001b[39;00m\n\u001b[1;32m      7\u001b[0m \u001b[38;5;66;03m# Utilizando a função sns.barplot() para criar o gráfico de barras com base nos dados do DataFrame distribuicao_de_frequencia_renda\u001b[39;00m\n\u001b[1;32m      8\u001b[0m \u001b[38;5;66;03m# O eixo x é definido como os índices do DataFrame (as classes de renda) e o eixo y como a coluna \"Porcentagem (%)\"\u001b[39;00m\n\u001b[1;32m      9\u001b[0m plt\u001b[38;5;241m.\u001b[39mfigure(figsize\u001b[38;5;241m=\u001b[39m(\u001b[38;5;241m10\u001b[39m, \u001b[38;5;241m6\u001b[39m))\n\u001b[0;32m---> 10\u001b[0m sns\u001b[38;5;241m.\u001b[39mbarplot(data\u001b[38;5;241m=\u001b[39m\u001b[43mdistribuicao_de_frequencia_renda\u001b[49m, x\u001b[38;5;241m=\u001b[39mdistribuicao_de_frequencia_renda\u001b[38;5;241m.\u001b[39mindex, y\u001b[38;5;241m=\u001b[39m\u001b[38;5;124m\"\u001b[39m\u001b[38;5;124mPorcentagem (\u001b[39m\u001b[38;5;124m%\u001b[39m\u001b[38;5;124m)\u001b[39m\u001b[38;5;124m\"\u001b[39m)\n\u001b[1;32m     12\u001b[0m \u001b[38;5;66;03m# Adicionando rótulos e título\u001b[39;00m\n\u001b[1;32m     13\u001b[0m \u001b[38;5;66;03m# Utilizando as funções plt.xlabel(), plt.ylabel() e plt.title() para adicionar rótulos aos eixos x e y, e um título ao gráfico, respectivamente\u001b[39;00m\n\u001b[1;32m     14\u001b[0m plt\u001b[38;5;241m.\u001b[39mxlabel(\u001b[38;5;124m'\u001b[39m\u001b[38;5;124mClasse de Renda\u001b[39m\u001b[38;5;124m'\u001b[39m)\n",
      "\u001b[0;31mNameError\u001b[0m: name 'distribuicao_de_frequencia_renda' is not defined"
     ]
    },
    {
     "data": {
      "text/plain": [
       "<Figure size 1000x600 with 0 Axes>"
      ]
     },
     "metadata": {},
     "output_type": "display_data"
    }
   ],
   "source": [
    "# Definindo o estilo do gráfico\n",
    "# Utilizando a função sns.set_style() para definir o estilo do gráfico como \"whitegrid\", que adiciona grades de fundo brancas ao gráfico\n",
    "sns.set_style(\"whitegrid\")\n",
    "\n",
    "# Criando o gráfico de barras\n",
    "# Utilizando a função plt.figure() para criar uma figura com o tamanho especificado (10 polegadas de largura por 6 polegadas de altura)\n",
    "# Utilizando a função sns.barplot() para criar o gráfico de barras com base nos dados do DataFrame distribuicao_de_frequencia_renda\n",
    "# O eixo x é definido como os índices do DataFrame (as classes de renda) e o eixo y como a coluna \"Porcentagem (%)\"\n",
    "plt.figure(figsize=(10, 6))\n",
    "sns.barplot(data=distribuicao_de_frequencia_renda, x=distribuicao_de_frequencia_renda.index, y=\"Porcentagem (%)\")\n",
    "\n",
    "# Adicionando rótulos e título\n",
    "# Utilizando as funções plt.xlabel(), plt.ylabel() e plt.title() para adicionar rótulos aos eixos x e y, e um título ao gráfico, respectivamente\n",
    "plt.xlabel('Classe de Renda')\n",
    "plt.ylabel('Porcentagem (%)')\n",
    "plt.title('Porcentagem de cada Classe de Renda')\n",
    "\n",
    "# Rotacionando os rótulos do eixo x para melhor visualização\n",
    "# Utilizando a função plt.xticks() para rotacionar os rótulos do eixo x em 45 graus para melhor legibilidade\n",
    "plt.xticks(rotation=45)\n",
    "\n",
    "# Exibindo o gráfico\n",
    "# Utilizando a função plt.show() para exibir o gráfico criado\n",
    "plt.show()\n"
   ]
  },
  {
   "cell_type": "markdown",
   "metadata": {},
   "source": [
    "        \"Decidi adicionar mais classes de renda devido à grande disparidade nos intervalos originais, buscando uma análise mais refinada. Além disso, implementei verificações adicionais e defini uma variável que pode ser ajustada conforme o salário mínimo do ano em estudo.\""
   ]
  },
  {
   "cell_type": "markdown",
   "metadata": {},
   "source": [
    "Com base nos dados fornecidos da Pesquisa Nacional por Amostra de Domicílios - 2015, sobre a distribuição de renda das famílias brasileiras, podemos destacar alguns insights:\n",
    "\n",
    "1. Desigualdade de renda: A distribuição da renda é bastante desigual, com uma grande concentração de famílias nas classes de menor renda (classes F e G), representando mais de 60% da amostra total.\n",
    "\n",
    "2. Classe de renda predominante: A classe F, que representa famílias com renda entre 1 e 2 salários mínimos, é a mais frequente, com mais de 44% da amostra total.\n",
    "\n",
    "3. Baixa representatividade das classes de renda mais alta: As classes A, B e C, que representam famílias com renda superior a 10 salários mínimos, juntas, representam menos de 5% da amostra total, evidenciando uma baixa representatividade de famílias com maior poder aquisitivo na pesquisa.\n",
    "\n",
    "4. Grande número de famílias com baixa renda: As classes E, F e G, que representam famílias com renda de até 5 salários mínimos, correspondem a mais de 88% da amostra total, indicando que a maioria das famílias pesquisadas possui uma renda considerada baixa.\n",
    "\n",
    "Esses insights sugerem a necessidade de políticas públicas voltadas para a redução da desigualdade de renda e para o aumento do acesso da população a oportunidades de melhoria socioeconômica, como educação, emprego e saúde."
   ]
  },
  {
   "cell_type": "markdown",
   "metadata": {
    "colab_type": "text",
    "id": "pnAH1T5fTg2F"
   },
   "source": [
    "### Para a variável RENDA, construa um histograma somente com as informações das pessoas com rendimento até R$ 20.000,00"
   ]
  },
  {
   "cell_type": "code",
   "execution_count": null,
   "metadata": {},
   "outputs": [],
   "source": [
    "pessoas_renda_menor_20000 = df[df['Renda'] < 20000].shape[0]\n",
    "\n",
    "print(\"Número de pessoas com renda menor que 20000:\", pessoas_renda_menor_20000)"
   ]
  },
  {
   "cell_type": "markdown",
   "metadata": {
    "colab_type": "text",
    "id": "vvtzLOUKTg2H"
   },
   "source": [
    "### Construa uma tabela de frequências e uma com os percentuais do cruzando das variáveis SEXO e COR\n",
    "#### <font color='blue'>Avalie o resultado da tabela e escreva suas principais conclusões</font>\n",
    "#### <font color='red'>Utilize os dicionários abaixo para renomear as linha e colunas das tabelas de frequências e dos gráficos em nosso projeto</font>"
   ]
  },
  {
   "cell_type": "code",
   "execution_count": null,
   "metadata": {
    "colab": {},
    "colab_type": "code",
    "id": "csL1jaeSTg2M"
   },
   "outputs": [],
   "source": [
    "# Dicionário de mapeamento para os valores de sexo, onde 0 representa \"Masculino\" e 1 representa \"Feminino\"\n",
    "Sexo = {0: \"Masculino\", 1: \"Feminino\"}\n",
    "\n",
    "# Dicionário de mapeamento para os valores de cor, onde os números representam diferentes categorias de cor\n",
    "Cor = {\n",
    "    0: \"Indígena\",\n",
    "    2: \"Branca\",\n",
    "    4: \"Preta\",\n",
    "    6: \"Amarela\",\n",
    "    8: \"Parda\",\n",
    "    9: \"Sem declaração\",\n",
    "}\n",
    "\n",
    "# Dicionário de mapeamento para os anos de estudo, onde cada número representa uma categoria de anos de estudo\n",
    "Anos_de_Estudo = {\n",
    "    1: \"Sem instrução e menos de 1 ano\",\n",
    "    2: \"1 ano\",\n",
    "    3: \"2 anos\",\n",
    "    4: \"3 anos\",\n",
    "    5: \"4 anos\",\n",
    "    6: \"5 anos\",\n",
    "    7: \"6 anos\",\n",
    "    8: \"7 anos\",\n",
    "    9: \"8 anos\",\n",
    "    10: \"9 anos\",\n",
    "    11: \"10 anos\",\n",
    "    12: \"11 anos\",\n",
    "    13: \"12 anos\",\n",
    "    14: \"13 anos\",\n",
    "    15: \"14 anos\",\n",
    "    16: \"15 anos ou mais\",\n",
    "    17: \"Não determinados\",\n",
    "}\n",
    "\n",
    "# Dicionário de mapeamento para os valores de UF (Unidades Federativas), onde os números representam os códigos de cada estado\n",
    "UF = {\n",
    "    11: \"Rondônia\",\n",
    "    12: \"Acre\",\n",
    "    13: \"Amazonas\",\n",
    "    14: \"Roraima\",\n",
    "    15: \"Pará\",\n",
    "    16: \"Amapá\",\n",
    "    17: \"Tocantins\",\n",
    "    21: \"Maranhão\",\n",
    "    22: \"Piauí\",\n",
    "    23: \"Ceará\",\n",
    "    24: \"Rio Grande do Norte\",\n",
    "    25: \"Paraíba\",\n",
    "    26: \"Pernambuco\",\n",
    "    27: \"Alagoas\",\n",
    "    28: \"Sergipe\",\n",
    "    29: \"Bahia\",\n",
    "    31: \"Minas Gerais\",\n",
    "    32: \"Espírito Santo\",\n",
    "    33: \"Rio de Janeiro\",\n",
    "    35: \"São Paulo\",\n",
    "    41: \"Paraná\",\n",
    "    42: \"Santa Catarina\",\n",
    "    43: \"Rio Grande do Sul\",\n",
    "    50: \"Mato Grosso do Sul\",\n",
    "    51: \"Mato Grosso\",\n",
    "    52: \"Goiás\",\n",
    "    53: \"Distrito Federal\",\n",
    "}\n",
    "\n",
    "# Edição do DataFrame original para criar um novo DataFrame modificado\n",
    "df_modificado = df.copy()\n",
    "\n",
    "# Mapeamento das colunas Sexo, Cor, Anos de Estudo e UF com base nos dicionários de mapeamento definidos acima\n",
    "df_modificado[\"Sexo\"] = df_modificado[\"Sexo\"].map(Sexo)\n",
    "df_modificado[\"Cor\"] = df_modificado[\"Cor\"].map(Cor)\n",
    "df_modificado[\"Anos de Estudo\"] = df_modificado[\"Anos de Estudo\"].map(Anos_de_Estudo)\n",
    "df_modificado[\"UF\"] = df_modificado[\"UF\"].map(UF)\n",
    "\n",
    "# Exibição do DataFrame modificado com as colunas de Sexo e UF mapeadas\n",
    "df_modificado"
   ]
  },
  {
   "cell_type": "code",
   "execution_count": null,
   "metadata": {},
   "outputs": [],
   "source": [
    "# Lista dos estados brasileiros contendo os nomes de cada estado\n",
    "estados_brasileiros = [\n",
    "    \"Rondônia\", \"Acre\", \"Amazonas\", \"Roraima\", \"Pará\", \"Amapá\", \"Tocantins\",\n",
    "    \"Maranhão\", \"Piauí\", \"Ceará\", \"Rio Grande do Norte\", \"Paraíba\", \"Pernambuco\",\n",
    "    \"Alagoas\", \"Sergipe\", \"Bahia\", \"Minas Gerais\", \"Espírito Santo\", \"Rio de Janeiro\",\n",
    "    \"São Paulo\", \"Paraná\", \"Santa Catarina\", \"Rio Grande do Sul\", \"Mato Grosso do Sul\",\n",
    "    \"Mato Grosso\", \"Goiás\", \"Distrito Federal\"\n",
    "]\n",
    "\n",
    "# Filtragem do DataFrame modificado para incluir apenas os estados brasileiros presentes na lista estados_brasileiros\n",
    "filtro_estados_brasileiros = df_modificado[df_modificado['UF'].isin(estados_brasileiros)]\n",
    "\n",
    "# Contagem do número de indivíduos em cada estado brasileiro\n",
    "contagem_por_estado = filtro_estados_brasileiros['UF'].value_counts()\n",
    "\n",
    "# Exibição do resultado da contagem de indivíduos em cada estado brasileiro\n",
    "print(contagem_por_estado)"
   ]
  },
  {
   "cell_type": "code",
   "execution_count": null,
   "metadata": {},
   "outputs": [],
   "source": [
    "# Definição das cores a serem utilizadas para representar cada estado no gráfico\n",
    "cores = [\n",
    "    \"blue\",\n",
    "    \"green\",\n",
    "    \"red\",\n",
    "    \"cyan\",\n",
    "    \"magenta\",\n",
    "    \"yellow\",\n",
    "    \"orange\",\n",
    "    \"purple\",\n",
    "    \"brown\",\n",
    "    \"pink\",\n",
    "    \"gray\",\n",
    "    \"olive\",\n",
    "    \"lime\",\n",
    "    \"teal\",\n",
    "    \"lavender\",\n",
    "    \"salmon\",\n",
    "    \"peru\",\n",
    "    \"tan\",\n",
    "    \"gold\",\n",
    "    \"indigo\",\n",
    "    \"maroon\",\n",
    "    \"plum\",\n",
    "    \"orchid\",\n",
    "    \"turquoise\",\n",
    "    \"aqua\",\n",
    "    \"coral\",\n",
    "    \"steelblue\",\n",
    "]\n",
    "\n",
    "# Cálculo dos valores percentuais de participação de cada estado em relação ao total\n",
    "total = contagem_por_estado.sum()\n",
    "percentuais = (contagem_por_estado / total) * 100\n",
    "\n",
    "# Criação da figura e dos eixos do gráfico, com tamanho ajustável\n",
    "fig, ax = plt.subplots(figsize=(12, 6))\n",
    "\n",
    "# Plotagem do histograma, utilizando cores diferentes para cada barra e exibindo os valores percentuais\n",
    "bars = percentuais.plot(kind=\"bar\", ax=ax, color=cores)\n",
    "\n",
    "# Adição dos valores percentuais acima de cada barra do gráfico\n",
    "for bar in bars.patches:\n",
    "    ax.annotate(\n",
    "        \"{:.2f}%\".format(bar.get_height()),\n",
    "        xy=(bar.get_x() + bar.get_width() / 2, bar.get_height()),\n",
    "        xytext=(0, 3),\n",
    "        textcoords=\"offset points\",\n",
    "        ha=\"center\",\n",
    "        va=\"bottom\",\n",
    "    )\n",
    "\n",
    "# Definição do título e dos rótulos dos eixos do gráfico\n",
    "ax.set_title(\n",
    "    \"Percentual de Indivíduos Entrevistados por Estado Brasileiro na Pesquisa Nacional por Amostra de Domicílios\"\n",
    ")\n",
    "ax.set_xlabel(\"Estado\")\n",
    "ax.set_ylabel(\"Percentual\")\n",
    "\n",
    "# Rotação dos rótulos do eixo x para melhor visualização\n",
    "plt.xticks(rotation=90)\n",
    "\n",
    "# Exibição do gráfico\n",
    "plt.tight_layout()\n",
    "plt.show()"
   ]
  },
  {
   "cell_type": "code",
   "execution_count": null,
   "metadata": {},
   "outputs": [],
   "source": [
    "# Cálculo da frequência de cada sexo presente no DataFrame modificado\n",
    "frequencia_por_sexo = df_modificado['Sexo'].value_counts()\n",
    "\n",
    "# Cálculo do total de indivíduos no DataFrame\n",
    "total_individuos = df_modificado.shape[0]\n",
    "\n",
    "# Cálculo da frequência em percentual de cada sexo\n",
    "percentual_por_sexo = (frequencia_por_sexo / total_individuos) * 100\n",
    "\n",
    "# Criação da figura e dos eixos do gráfico\n",
    "fig, ax = plt.subplots()\n",
    "\n",
    "# Plotagem do gráfico de linha, representando os valores percentuais de cada sexo\n",
    "percentual_por_sexo.plot(kind='line', ax=ax, marker='o', color='green')\n",
    "\n",
    "# Definição do título e dos rótulos dos eixos do gráfico\n",
    "ax.set_title('Frequência de Indivíduos por Sexo')\n",
    "ax.set_xlabel('Sexo')\n",
    "ax.set_ylabel('Percentual')\n",
    "\n",
    "# Definição dos rótulos do eixo x para melhor representação (\"Masculino\" e \"Feminino\")\n",
    "plt.xticks([0, 1], ['Masculino', 'Feminino'])\n",
    "\n",
    "# Exibição dos valores em cada ponto da linha do gráfico\n",
    "for i, v in enumerate(percentual_por_sexo):\n",
    "    ax.text(i, v + 0.5, f\"{v:.2f}%\", ha='center')\n",
    "\n",
    "# Exibição do gráfico com layout ajustado e grade habilitada\n",
    "plt.tight_layout()\n",
    "plt.grid(True)\n",
    "plt.show()\n"
   ]
  },
  {
   "cell_type": "code",
   "execution_count": null,
   "metadata": {},
   "outputs": [],
   "source": [
    "def atribuir_classe_faixa_etaria(idade):\n",
    "    if idade < 18:\n",
    "        return 'Menores de Idade'\n",
    "    elif idade < 25:\n",
    "        return 'Jovens'\n",
    "    elif idade < 45:\n",
    "        return 'Jovens Adultos'\n",
    "    elif idade < 65:\n",
    "        return 'Meia Idade'\n",
    "    else:\n",
    "        return 'Idosos'\n",
    "\n",
    "def criar_coluna_faixa_etaria(df):\n",
    "    df['Faixa Etária'] = df['Idade'].apply(atribuir_classe_faixa_etaria)\n",
    "    return df\n",
    "\n",
    "# Exemplo de uso:\n",
    "# Supondo que df_modificado é o seu DataFrame com a coluna 'Idade'\n",
    "# Substitua df_modificado pelo nome correto do seu DataFrame\n",
    "df_modificado = criar_coluna_faixa_etaria(df_modificado)\n",
    "df_modificado\n"
   ]
  },
  {
   "cell_type": "code",
   "execution_count": null,
   "metadata": {},
   "outputs": [],
   "source": [
    "def calcular_percentual_faixa_etaria(df_modificado):\n",
    "    total_entrevistados = len(df_modificado)  # Corrigido para calcular o total de entrevistados com base no comprimento do DataFrame\n",
    "    frequencia_faixa_etaria = df_modificado['Faixa Etária'].value_counts().reset_index()\n",
    "    frequencia_faixa_etaria.columns = ['Faixa Etária', 'Frequência']\n",
    "    frequencia_faixa_etaria['Percentual'] = (frequencia_faixa_etaria['Frequência'] / total_entrevistados) * 100\n",
    "    return frequencia_faixa_etaria\n",
    "# Substitua df_modificado pelo nome correto do seu DataFrame\n",
    "frequencia_faixa_etaria = calcular_percentual_faixa_etaria(df_modificado)"
   ]
  },
  {
   "cell_type": "code",
   "execution_count": null,
   "metadata": {},
   "outputs": [],
   "source": [
    "def print_frequencia_faixa_etaria(frequencia_faixa_etaria):\n",
    "    print(\"Frequência de Faixas Etárias:\")\n",
    "    print(\"-----------------------------\")\n",
    "    for index, row in frequencia_faixa_etaria.iterrows():\n",
    "        faixa_etaria = row['Faixa Etária']\n",
    "        frequencia = row['Frequência']\n",
    "        if faixa_etaria == 'Menores de Idade':\n",
    "            print(f\"A faixa etária de {faixa_etaria} é de 0 a 18 anos, nessa pesquisa foram entrevistados \\033[1m{frequencia}\\033[0m indivíduos.\")\n",
    "        elif faixa_etaria == 'Jovens':\n",
    "            print(f\"A faixa etária de {faixa_etaria} é de 18 a 25 anos, nessa pesquisa foram entrevistados \\033[1m{frequencia}\\033[0m indivíduos.\")\n",
    "        elif faixa_etaria == 'Jovens Adultos':\n",
    "            print(f\"A faixa etária de {faixa_etaria} é de 25 a 45 anos, nessa pesquisa foram entrevistados \\033[1m{frequencia}\\033[0m indivíduos.\")\n",
    "        elif faixa_etaria == 'Meia Idade':\n",
    "            print(f\"A faixa etária de {faixa_etaria} é de 45 a 65 anos, nessa pesquisa foram entrevistados \\033[1m{frequencia}\\033[0m indivíduos.\")\n",
    "        else:\n",
    "            print(f\"A faixa etária de {faixa_etaria} é acima de 65 anos, nessa pesquisa foram entrevistados \\033[1m{frequencia}\\033[0m indivíduos.\")\n",
    "    print(\"-----------------------------\")\n",
    "\n",
    "# Exemplo de uso:\n",
    "# Supondo que frequencia_faixa_etaria é o DataFrame retornado pela função contar_frequencia_faixa_etaria\n",
    "print_frequencia_faixa_etaria(frequencia_faixa_etaria)\n"
   ]
  },
  {
   "cell_type": "code",
   "execution_count": null,
   "metadata": {},
   "outputs": [],
   "source": [
    "def plotar_grafico_barras(frequencia_faixa_etaria):\n",
    "    plt.figure(figsize=(12, 8))\n",
    "    ax = frequencia_faixa_etaria.plot(kind='bar', x='Faixa Etária', y='Percentual', legend=None, color='skyblue')\n",
    "    ax.set_ylabel('Percentual')\n",
    "    ax.set_xlabel('Faixa Etária')\n",
    "    ax.set_title('Percentual de Entrevistados por Faixa Etária')\n",
    "    for p in ax.patches:\n",
    "        ax.annotate(f'{p.get_height():.2f}%', (p.get_x() + p.get_width() / 2., p.get_height()),\n",
    "                    ha='center', va='center', fontsize=10, color='black', xytext=(0, 5),\n",
    "                    textcoords='offset points')\n",
    "    plt.xticks(rotation=45)\n",
    "    plt.tight_layout()\n",
    "    plt.show()\n",
    "\n",
    "plotar_grafico_barras(frequencia_faixa_etaria)\n"
   ]
  },
  {
   "cell_type": "code",
   "execution_count": null,
   "metadata": {},
   "outputs": [],
   "source": [
    "def classificacao_de_escolaridade(anos):\n",
    "    if anos < 9:\n",
    "        return \"Ensino fundamental incompleto\"\n",
    "    elif anos == 9:\n",
    "        return \"Ensino fundamental completo\"\n",
    "    elif anos >= 10 and anos <= 11:\n",
    "        return \"Ensino médio incompleto\"\n",
    "    elif anos == 12:\n",
    "        return \"Ensino médio completo\"\n",
    "    elif anos >= 13 and anos <= 15:\n",
    "        return \"Ensino superior incompleto\"\n",
    "    elif anos == 16:\n",
    "        return \"Ensino superior completo\"\n",
    "    else:\n",
    "        return \"Especializações\"\n",
    "\n",
    "# Aplicando a função ao dataframe df\n",
    "df['Escolaridade'] = df['Anos de Estudo'].apply(classificacao_de_escolaridade)\n",
    "\n",
    "# Exibindo o dataframe com a nova coluna\n",
    "df\n"
   ]
  },
  {
   "cell_type": "code",
   "execution_count": null,
   "metadata": {},
   "outputs": [],
   "source": [
    "# Calculando a frequência de cada classe de estudo\n",
    "frequencia = df['Escolaridade'].value_counts()\n",
    "\n",
    "# Calculando o percentual para cada classe de estudo\n",
    "percentual = (frequencia / len(df)) * 100\n",
    "percentual = percentual.round(2)  # Arredondando para 2 casas decimais\n",
    "\n",
    "# Criando um novo dataframe para armazenar as frequências e percentuais\n",
    "df_freq_percent = pd.DataFrame({'Frequência': frequencia, 'Percentual': percentual})\n",
    "\n",
    "# Exibindo o dataframe com as frequências e percentuais\n",
    "print(df_freq_percent)\n"
   ]
  },
  {
   "cell_type": "code",
   "execution_count": null,
   "metadata": {},
   "outputs": [],
   "source": [
    "# Ordenando as classes de escolaridade pelo percentual em ordem decrescente\n",
    "df_freq_percent_sorted = df_freq_percent.sort_values(by='Percentual', ascending=False)\n",
    "\n",
    "# Plotando o histograma\n",
    "plt.figure(figsize=(10, 6))\n",
    "bars = plt.bar(df_freq_percent_sorted.index, df_freq_percent_sorted['Frequência'], color='skyblue')\n",
    "\n",
    "# Adicionando o percentual em cima de cada barra\n",
    "for i, bar in enumerate(bars):\n",
    "    yval = bar.get_height()\n",
    "    plt.text(bar.get_x() + bar.get_width()/2, yval, f'{df_freq_percent_sorted[\"Percentual\"][i]:.2f}%', ha='center', va='bottom')\n",
    "\n",
    "plt.xlabel('Escolaridade')\n",
    "plt.ylabel('Frequência')\n",
    "plt.title('Histograma de Escolaridade')\n",
    "plt.xticks(rotation=45, ha='right')\n",
    "plt.tight_layout()\n",
    "plt.show()\n"
   ]
  },
  {
   "cell_type": "code",
   "execution_count": null,
   "metadata": {},
   "outputs": [],
   "source": [
    "# Calcular a frequência das raças na coluna \"Cor\"\n",
    "frequencia_racas = df_modificado['Cor'].value_counts()\n",
    "\n",
    "# Exibir o resultado\n",
    "print(frequencia_racas)\n"
   ]
  },
  {
   "cell_type": "code",
   "execution_count": null,
   "metadata": {},
   "outputs": [],
   "source": [
    "# Calcular o número total de registros\n",
    "total_registros = len(df_modificado)\n",
    "percentual_racas = round((frequencia_racas / total_registros) * 100, 2)\n",
    "# Exibir o resultado\n",
    "print(percentual_racas)\n"
   ]
  },
  {
   "cell_type": "code",
   "execution_count": null,
   "metadata": {},
   "outputs": [],
   "source": [
    "# Definir o estilo do gráfico\n",
    "sns.set_style(\"whitegrid\")\n",
    "\n",
    "# Plotar o gráfico de barras\n",
    "plt.figure(figsize=(10, 6))  # Definir o tamanho da figura\n",
    "\n",
    "# Plotar as barras\n",
    "grafico = sns.barplot(x=percentual_racas.index, y=percentual_racas.values, palette=\"rainbow\")\n",
    "\n",
    "# Adicionar os valores percentuais em cima de cada barra\n",
    "for p in grafico.patches:\n",
    "    grafico.annotate('{:.2f}%'.format(p.get_height()), (p.get_x() + p.get_width() / 2., p.get_height()), ha='center', va='center', fontsize=10, color='black', xytext=(0, 5), textcoords='offset points')\n",
    "\n",
    "# Definir o título e os rótulos dos eixos\n",
    "plt.title('Distribuição Percentual das Raças')\n",
    "plt.xlabel('Raça')\n",
    "plt.ylabel('Percentual')\n",
    "\n",
    "# Exibir o gráfico\n",
    "plt.xticks(rotation=45)  # Rotacionar os rótulos do eixo x para melhor visualização\n",
    "plt.tight_layout()  # Ajustar o layout para evitar cortes\n",
    "plt.show()\n"
   ]
  },
  {
   "cell_type": "markdown",
   "metadata": {
    "colab_type": "text",
    "id": "Aoeayf6zTg2P"
   },
   "source": [
    "## Realize, para a variável RENDA, uma análise descritiva com as ferramentas que aprendemos em nosso treinamento"
   ]
  },
  {
   "cell_type": "code",
   "execution_count": null,
   "metadata": {},
   "outputs": [],
   "source": [
    "df_modificado\n"
   ]
  },
  {
   "cell_type": "code",
   "execution_count": null,
   "metadata": {},
   "outputs": [],
   "source": [
    "# Calculando a média aritmética\n",
    "media_aritmetica = df_modificado['Renda'].mean()\n",
    "print(\"Média aritmética da renda:\", round(media_aritmetica, 3))\n",
    "\n",
    "# Calculando a mediana\n",
    "mediana = df_modificado['Renda'].median()\n",
    "print(\"Mediana da renda:\", round(mediana, 3))\n",
    "\n",
    "# Calculando a moda\n",
    "moda = df_modificado['Renda'].mode()\n",
    "print(\"Moda da renda:\", moda)\n",
    "\n",
    "# Calculando o desvio médio absoluto sem usar a função mad\n",
    "desvio_medio_absoluto = df_modificado['Renda'].apply(lambda x: abs(x - df_modificado['Renda'].median())).mean()\n",
    "print(\"Desvio médio absoluto da renda:\", round(desvio_medio_absoluto, 3))\n",
    "\n",
    "\n",
    "# Calculando a variância\n",
    "variancia = df_modificado['Renda'].var()\n",
    "print(\"Variância da renda:\", round(variancia, 3))\n",
    "\n",
    "# Calculando o desvio padrão\n",
    "desvio_padrao = df_modificado['Renda'].std()\n",
    "print(\"Desvio padrão da renda:\", round(desvio_padrao, 3))\n",
    "\n",
    "# Calculando a média, mediana e valor máximo da variável Renda segundo Sexo e Cor\n",
    "estatisticas_por_grupo = df_modificado.groupby(['Sexo', 'Cor'])['Renda'].agg(['mean', 'median', 'max'])\n",
    "print(\"\\nMédia, mediana e valor máximo da renda por Sexo e Cor:\")\n",
    "print(estatisticas_por_grupo)\n"
   ]
  },
  {
   "cell_type": "code",
   "execution_count": null,
   "metadata": {},
   "outputs": [],
   "source": [
    "# Calculando a média, mediana e valor máximo da variável Renda segundo Sexo e Cor\n",
    "estatisticas_por_grupo = df_modificado.groupby(['Sexo', 'Cor'])['Renda'].agg(['mean', 'median', 'max'])\n",
    "\n",
    "# Separando os resultados por sexo\n",
    "resultados_por_sexo = estatisticas_por_grupo.unstack(level=0)\n",
    "\n",
    "# Plotando os gráficos\n",
    "fig, axes = plt.subplots(nrows=3, ncols=1, figsize=(10, 12))\n",
    "\n",
    "# Gráfico para média\n",
    "resultados_por_sexo['mean'].plot(kind='bar', ax=axes[0], color=['blue', 'orange'])\n",
    "axes[0].set_title('Média da Renda por Sexo e Cor')\n",
    "\n",
    "# Gráfico para mediana\n",
    "resultados_por_sexo['median'].plot(kind='bar', ax=axes[1], color=['blue', 'orange'])\n",
    "axes[1].set_title('Mediana da Renda por Sexo e Cor')\n",
    "\n",
    "# Gráfico para valor máximo\n",
    "resultados_por_sexo['max'].plot(kind='bar', ax=axes[2], color=['blue', 'orange'])\n",
    "axes[2].set_title('Valor Máximo da Renda por Sexo e Cor')\n",
    "\n",
    "plt.tight_layout()\n",
    "plt.show()\n"
   ]
  },
  {
   "cell_type": "markdown",
   "metadata": {
    "colab_type": "text",
    "id": "CleJ6c1rTg2i"
   },
   "source": [
    "### Obtenha as medidas de dispersão da variável RENDA segundo SEXO e COR\n",
    "#### <font color='blue'>Destaque os pontos mais importante que você observa nas tabulações</font>\n",
    "#### <font color='red'>O parâmento <i>aggfunc</i> da função <i>crosstab()</i> pode receber uma lista de funções. Exemplo: <i>aggfunc = {'mad', 'var', 'std'}</i></font>"
   ]
  },
  {
   "cell_type": "code",
   "execution_count": null,
   "metadata": {
    "colab": {},
    "colab_type": "code",
    "id": "bNv-eWZ3Tg2j"
   },
   "outputs": [],
   "source": [
    "# Calculando medidas de dispersão da variável Renda segundo Sexo e Cor usando crosstab\n",
    "medidas_dispersao_por_grupo = pd.crosstab(index=df_modificado['Sexo'], columns=df_modificado['Cor'], \n",
    "                                          values=df_modificado['Renda'], aggfunc=['var', 'std'])\n",
    "\n",
    "# Renomeando as colunas para melhor clareza e arredondando os valores para duas casas decimais\n",
    "medidas_dispersao_por_grupo.rename(columns={('var', ''): 'Variância', ('std', ''): 'Desvio Padrão'}, inplace=True)\n",
    "medidas_dispersao_por_grupo = medidas_dispersao_por_grupo.round(2)\n",
    "\n",
    "print(\"\\nMedidas de dispersão da renda por Sexo e Cor:\")\n",
    "print(medidas_dispersao_por_grupo)\n"
   ]
  },
  {
   "cell_type": "code",
   "execution_count": null,
   "metadata": {},
   "outputs": [],
   "source": [
    "# Calculando medidas de dispersão da variável Renda segundo Sexo e Cor\n",
    "medidas_dispersao_por_grupo = df_modificado.groupby(['Sexo', 'Cor'])['Renda'].agg(['var', 'std'])\n",
    "\n",
    "print(\"\\nMedidas de dispersão da renda por Sexo e Cor:\")\n",
    "print(medidas_dispersao_por_grupo)\n"
   ]
  },
  {
   "cell_type": "markdown",
   "metadata": {
    "colab_type": "text",
    "id": "57aHvJMSTg2l"
   },
   "source": [
    "> ### Conclusões\n",
    "\n",
    "Escreva suas conclusões aqui..."
   ]
  },
  {
   "cell_type": "markdown",
   "metadata": {
    "colab_type": "text",
    "id": "QSYjkdyOTg2l"
   },
   "source": [
    "### Construa um box plot da variável RENDA segundo SEXO e COR\n",
    "#### <font color='blue'>É possível verificar algum comportamento diferenciado no rendimento entre os grupos de pessoas analisados? Avalie o gráfico e destaque os pontos mais importantes.</font>\n",
    "#### <font color='red'>1º - Utilize somente as informações de pessoas com renda abaixo de R$ 10.000</font>\n",
    "#### <font color='red'>2º - Para incluir uma terceira variável na construção de um boxplot utilize o parâmetro <i>hue</i> e indique a variável que quer incluir na subdivisão.</font>\n",
    "#### Mais informações: https://seaborn.pydata.org/generated/seaborn.boxplot.html"
   ]
  },
  {
   "cell_type": "code",
   "execution_count": null,
   "metadata": {},
   "outputs": [],
   "source": [
    "# Identificando os valores únicos da coluna 'Cor' no DataFrame\n",
    "valores_cor = df_modificado['Cor'].unique()\n",
    "\n",
    "# Criando uma paleta de cores correspondente aos valores únicos de 'Cor'\n",
    "paleta_cores = sns.color_palette(\"husl\", len(valores_cor))\n",
    "cores = dict(zip(valores_cor, paleta_cores))\n",
    "\n",
    "# Construindo os boxplots separados por sexo com as cores correspondentes para cada categoria de Cor\n",
    "plt.figure(figsize=(14, 7))\n",
    "\n",
    "plt.subplot(1, 2, 1)\n",
    "sns.boxplot(x='Cor', y='Renda', data=df_filtrado[df_filtrado['Sexo'] == 'Masculino'], palette=cores)\n",
    "plt.title('Boxplot da Renda por Cor (Masculino)')\n",
    "plt.xlabel('Cor')\n",
    "plt.ylabel('Renda')\n",
    "\n",
    "plt.subplot(1, 2, 2)\n",
    "sns.boxplot(x='Cor', y='Renda', data=df_filtrado[df_filtrado['Sexo'] == 'Feminino'], palette=cores)\n",
    "plt.title('Boxplot da Renda por Cor (Feminino)')\n",
    "plt.xlabel('Cor')\n",
    "plt.ylabel('Renda')\n",
    "\n",
    "plt.tight_layout()\n",
    "plt.show()\n"
   ]
  },
  {
   "cell_type": "markdown",
   "metadata": {
    "colab_type": "text",
    "id": "zi4BaGooTg2o"
   },
   "source": [
    "# <font color=\"red\">DESAFIO<font>\n",
    "### Qual percentual de pessoas de nosso <i>dataset</i> ganham um salário mínimo (R$ 788,00) ou menos?\n",
    "#### <font color='red'>Utilize a função <i>percentileofscore()</i> do <i>scipy</i> para realizar estas análises.</font>\n",
    "#### Mais informações: https://docs.scipy.org/doc/scipy/reference/generated/scipy.stats.percentileofscore.html\n"
   ]
  },
  {
   "cell_type": "code",
   "execution_count": null,
   "metadata": {
    "colab": {},
    "colab_type": "code",
    "id": "9DwXo2yITg2p"
   },
   "outputs": [],
   "source": [
    "from scipy import stats\n"
   ]
  },
  {
   "cell_type": "markdown",
   "metadata": {
    "colab_type": "text",
    "id": "bl0fOMuKTg2q"
   },
   "source": [
    "### Qual o valor máximo ganho por 99% das pessoas de nosso <i>dataset</i>?\n",
    "#### <font color='red'>Utilize o método <i>quantile()</i> do <i>pandas</i> para realizar estas análises.</font>"
   ]
  },
  {
   "cell_type": "code",
   "execution_count": null,
   "metadata": {
    "colab": {},
    "colab_type": "code",
    "id": "cIVwy8bKTg2q"
   },
   "outputs": [],
   "source": [
    "\n",
    "\n",
    "# Supondo que 'df' seja o DataFrame que contém os dados\n",
    "# Substitua 'Coluna' pelo nome real da coluna de renda no seu DataFrame\n",
    "renda_coluna = df['Renda']\n",
    "\n",
    "# Calcular o percentual de pessoas que ganham um salário mínimo ou menos\n",
    "percentual_salario_minimo = stats.percentileofscore(renda_coluna, 788, kind='weak')\n",
    "\n",
    "print(f'O percentual de pessoas que ganham um salário mínimo ou menos é de {percentual_salario_minimo:.2f}%')\n",
    "\n",
    "# Determinar o valor máximo ganho por 99% das pessoas do dataset\n",
    "maximo_99_percentil = renda_coluna.quantile(0.99)\n",
    "\n",
    "print(f'O valor máximo ganho por 99% das pessoas do dataset é de R${maximo_99_percentil:.2f}')\n"
   ]
  },
  {
   "cell_type": "markdown",
   "metadata": {
    "colab_type": "text",
    "id": "zeRhvtngTg2r"
   },
   "source": [
    "### Obtenha a média, mediana, valor máximo e desvio-padrão da variável RENDA segundo ANOS DE ESTUDO e SEXO\n",
    "#### <font color='blue'>Destaque os pontos mais importante que você observa nas tabulações</font>\n",
    "#### <font color='red'>O parâmento <i>aggfunc</i> da função <i>crosstab()</i> pode receber uma lista de funções. Exemplo: <i>aggfunc = ['mean', 'median', 'max', 'std']</i></font>"
   ]
  },
  {
   "cell_type": "code",
   "execution_count": null,
   "metadata": {
    "colab": {},
    "colab_type": "code",
    "id": "8nxGdQIpTg2s"
   },
   "outputs": [],
   "source": [
    "# Calcula a tabela cruzada com média, mediana, valor máximo e desvio-padrão\n",
    "tabela_renda = pd.crosstab(\n",
    "    df_modificado[\"Anos de Estudo\"],\n",
    "    df_modificado[\"Sexo\"],\n",
    "    values=df[\"Renda\"],\n",
    "    aggfunc=[\"mean\", \"median\", \"max\", \"std\"],\n",
    ")\n",
    "\n",
    "# Renomeia as colunas para melhor clareza\n",
    "tabela_renda.columns = [\n",
    "    \"Média Renda Masculino\",\n",
    "    \"Média Renda Feminino\",\n",
    "    \"Mediana Renda Masculino\",\n",
    "    \"Mediana Renda Feminino\",\n",
    "    \"Máximo Renda Masculino\",\n",
    "    \"Máximo Renda Feminino\",\n",
    "    \"Desvio-padrão Renda Masculino\",\n",
    "    \"Desvio-padrão Renda Feminino\",\n",
    "]\n",
    "\n",
    "# Arredondar os valores para duas casas decimais\n",
    "tabela_renda = tabela_renda.round(2)\n",
    "\n",
    "# Criar DataFrame para armazenar os resultados\n",
    "df_resultado = pd.DataFrame(tabela_renda)\n",
    "\n",
    "df_resultado\n"
   ]
  },
  {
   "cell_type": "markdown",
   "metadata": {
    "colab_type": "text",
    "id": "1Rm1n7a_Tg2u"
   },
   "source": [
    "### Construa um box plot da variável RENDA segundo ANOS DE ESTUDO e SEXO\n",
    "#### <font color='blue'>É possível verificar algum comportamento diferenciado no rendimento entre os grupos de pessoas analisados? Avalie o gráfico e destaque os pontos mais importantes.</font>\n",
    "#### <font color='red'>1º - Utilize somente as informações de pessoas com renda abaixo de R$ 10.000</font>\n",
    "#### <font color='red'>2º - Utilize a variável IDADE para identificar se a desigualdade se verifica para pessoas de mesma idade. Exemplo: <i>data=dados.query('Renda < 10000 and Idade == 40')</i> ou <i>data=dados.query('Renda < 10000 and Idade == 50')</i></font>\n",
    "#### <font color='red'>3º - Para incluir uma terceira variável na construção de um boxplot utilize o parâmetro <i>hue</i> e indique a variável que quer incluir na subdivisão.</font>\n",
    "#### Mais informações: https://seaborn.pydata.org/generated/seaborn.boxplot.html"
   ]
  },
  {
   "cell_type": "code",
   "execution_count": null,
   "metadata": {
    "colab": {},
    "colab_type": "code",
    "id": "rgMU0WyJTg2v"
   },
   "outputs": [],
   "source": [
    "import seaborn as sns\n",
    "import matplotlib.pyplot as plt\n",
    "\n",
    "# Filtrar dados para incluir apenas pessoas com renda abaixo de R$ 10.000\n",
    "dados_filtrados = df_modificado.query('Renda < 10000')\n",
    "\n",
    "# Ordenar os níveis de anos de estudo\n",
    "anos_de_estudo_ordenados = dados_filtrados['Anos de Estudo'].unique()\n",
    "anos_de_estudo_ordenados.sort()\n",
    "\n",
    "# Verificar se há dados para homens e criar o boxplot se houver\n",
    "dados_masculinos = dados_filtrados[dados_filtrados['Sexo'] == 'Masculino']\n",
    "if not dados_masculinos.empty:\n",
    "    plt.figure(figsize=(12, 6))\n",
    "    sns.boxplot(x='Anos de Estudo', y='Renda', data=dados_masculinos, order=anos_de_estudo_ordenados)\n",
    "    plt.title('Renda por Anos de Estudo - Masculino')\n",
    "    plt.xlabel('Anos de Estudo')\n",
    "    plt.ylabel('Renda')\n",
    "    plt.xticks(rotation=45)\n",
    "    plt.grid(True)\n",
    "    plt.show()\n",
    "\n",
    "# Verificar se há dados para mulheres e criar o boxplot se houver\n",
    "dados_femininos = dados_filtrados[dados_filtrados['Sexo'] == 'Feminino']\n",
    "if not dados_femininos.empty:\n",
    "    plt.figure(figsize=(12, 6))\n",
    "    sns.boxplot(x='Anos de Estudo', y='Renda', data=dados_femininos, order=anos_de_estudo_ordenados)\n",
    "    plt.title('Renda por Anos de Estudo - Feminino')\n",
    "    plt.xlabel('Anos de Estudo')\n",
    "    plt.ylabel('Renda')\n",
    "    plt.xticks(rotation=45)\n",
    "    plt.grid(True)\n",
    "    plt.show()\n"
   ]
  },
  {
   "cell_type": "markdown",
   "metadata": {
    "colab_type": "text",
    "id": "0fIFSxj8Tg2x"
   },
   "source": [
    "### Obtenha a média, mediana, valor máximo e desvio-padrão da variável RENDA segundo as UNIDADES DA FEDERAÇÃO\n",
    "#### <font color='blue'>Destaque os pontos mais importante que você observa nas tabulações</font>\n",
    "#### <font color='red'>Utilize o método <i>groupby()</i> do <i>pandas</i> juntamente com o método <i>agg()</i> para contruir a tabulação. O método <i>agg()</i> pode receber um dicionário especificando qual coluna do DataFrame deve ser utilizada e qual lista de funções estatísticas queremos obter, por exemplo: <i>dados.groupby(['UF']).agg({'Renda': ['mean', 'median', 'max', 'std']})</i></font>"
   ]
  },
  {
   "cell_type": "code",
   "execution_count": null,
   "metadata": {
    "colab": {},
    "colab_type": "code",
    "id": "91IxQFJoTg2x"
   },
   "outputs": [],
   "source": [
    "# Agrupar os dados por UNIDADES DA FEDERAÇÃO e calcular as estatísticas de renda\n",
    "tabulacao_renda_uf = df_modificado.groupby([\"UF\"]).agg(\n",
    "    {\"Renda\": [\"mean\", \"median\", \"max\", \"std\"]}\n",
    ")\n",
    "\n",
    "# Renomear as colunas para melhor clareza\n",
    "tabulacao_renda_uf.columns = [\n",
    "    \"Média Renda\",\n",
    "    \"Mediana Renda\",\n",
    "    \"Máximo Renda\",\n",
    "    \"Desvio-padrão Renda\",\n",
    "]\n",
    "\n",
    "# Arredondar os valores para duas casas decimais\n",
    "tabulacao_renda_uf = tabulacao_renda_uf.round(2)\n",
    "\n",
    "df_resultado = pd.DataFrame(tabulacao_renda_uf)\n",
    "\n",
    "df_resultado"
   ]
  },
  {
   "cell_type": "markdown",
   "metadata": {
    "colab_type": "text",
    "id": "6NfAKimkTg2y"
   },
   "source": [
    "### Construa um box plot da variável RENDA segundo as UNIDADES DA FEDERAÇÃO\n",
    "#### <font color='blue'>É possível verificar algum comportamento diferenciado no rendimento entre os grupos analisados? Avalie o gráfico e destaque os pontos mais importantes.</font>\n",
    "#### <font color='red'>1º - Utilize somente as informações de pessoas com renda abaixo de R$ 10.000</font>"
   ]
  },
  {
   "cell_type": "code",
   "execution_count": null,
   "metadata": {
    "colab": {},
    "colab_type": "code",
    "id": "XdEGG3blTg2z"
   },
   "outputs": [],
   "source": [
    "dados_filtrados = df_modificado[df_modificado['Renda'] < 10000]\n",
    "\n",
    "# Criar o boxplot da renda por UNIDADES DA FEDERAÇÃO\n",
    "plt.figure(figsize=(12, 8))\n",
    "sns.boxplot(x='UF', y='Renda', data=dados_filtrados)\n",
    "plt.title('Renda por Unidades da Federação')\n",
    "plt.xlabel('Unidades da Federação')\n",
    "plt.ylabel('Renda')\n",
    "plt.xticks(rotation=90)\n",
    "plt.grid(True)\n",
    "plt.show()\n"
   ]
  }
 ],
 "metadata": {
  "colab": {
   "name": "Análise_Descritiva.ipynb",
   "provenance": [],
   "toc_visible": true,
   "version": "0.3.2"
  },
  "kernelspec": {
   "display_name": "Python 3",
   "language": "python",
   "name": "python3"
  },
  "language_info": {
   "codemirror_mode": {
    "name": "ipython",
    "version": 3
   },
   "file_extension": ".py",
   "mimetype": "text/x-python",
   "name": "python",
   "nbconvert_exporter": "python",
   "pygments_lexer": "ipython3",
   "version": "3.10.12"
  }
 },
 "nbformat": 4,
 "nbformat_minor": 1
}
